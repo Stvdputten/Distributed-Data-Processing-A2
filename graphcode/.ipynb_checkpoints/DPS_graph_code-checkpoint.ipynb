{
 "cells": [
  {
   "cell_type": "code",
   "execution_count": 16,
   "metadata": {},
   "outputs": [],
   "source": [
    "import numpy as np\n",
    "import matplotlib.pyplot as plt\n",
    "%matplotlib inline\n"
   ]
  },
  {
   "cell_type": "code",
   "execution_count": 17,
   "metadata": {},
   "outputs": [],
   "source": [
    "one_node_data = [\n",
    "9.473910700000001,\n",
    "10.611945500000001,\n",
    "10.926767300000002,\n",
    "10.2466951,\n",
    "9.4842683,\n",
    "11.2523505,\n",
    "10.176861500000001,\n",
    "10.6057245,\n",
    "9.740995199999999,\n",
    "10.536195,\n",
    "9.473910700000001,\n",
    "]\n",
    "two_nodes_data = [\n",
    "8.762996500000002,\n",
    "10.458517699999998,\n",
    "7.112813299999999,\n",
    "12.0177962,\n",
    "7.818119800000001,\n",
    "7.831321199999998,\n",
    "10.0442173,\n",
    "9.0759011,\n",
    "8.8110573,\n",
    "9.297802099999998,\n",
    "]\n",
    "three_nodes_data = [\n",
    "7.747958499999999,\n",
    "8.687586799999998,\n",
    "7.6882631,\n",
    "7.484891600000001,\n",
    "8.819476199999999,\n",
    "8.327269300000001,\n",
    "8.959267000000002,\n",
    "8.247753699999999,\n",
    "6.7828949,\n",
    "7.7338915,\n",
    "]\n"
   ]
  },
  {
   "cell_type": "code",
   "execution_count": 18,
   "metadata": {},
   "outputs": [],
   "source": [
    "fifteen_sessions_data = [\n",
    "18.9514224,\n",
    "20.069665099999998,\n",
    "18.7975182,\n",
    "19.889366799999998,\n",
    "21.2622267,\n",
    "22.792093700000002,\n",
    "18.6049694,\n",
    "21.9923493,\n",
    "20.1749374,\n",
    "21.011108400000005,\n",
    "]\n",
    "ten_sessions_data = [\n",
    "15.501606200000001,\n",
    "14.31832365,\n",
    "15.3450623,\n",
    "15.471352249999999,\n",
    "14.925277000000001,\n",
    "15.548225599999999,\n",
    "16.62304855,\n",
    "14.445352000000002,\n",
    "15.642526799999999,\n",
    "16.419426899999998,\n",
    "]\n",
    "five_sessions_data = [\n",
    "11.561674900000002,\n",
    "9.666881700000001,\n",
    "11.224146500000002,\n",
    "7.131121000000002,\n",
    "9.5393786,\n",
    "8.3791286,\n",
    "9.106832099999998,\n",
    "9.843331800000001,\n",
    "11.440122100000002,\n",
    "10.8183985,\n",
    "]\n",
    "one_sessions_data = [\n",
    "5.316032800000001,\n",
    "4.818660600000001,\n",
    "7.2244449,\n",
    "5.4665873000000005,\n",
    "5.377472699999998,\n",
    "5.361030899999999,\n",
    "5.249406900000002,\n",
    "7.065735899999998,\n",
    "4.8782742,\n",
    "6.5449826,\n",
    "]\n"
   ]
  },
  {
   "cell_type": "code",
   "execution_count": 19,
   "metadata": {},
   "outputs": [],
   "source": [
    "fifteenmb_data = [\n",
    "    142.80425639999999,\n",
    "137.7094325,\n",
    "131.6641336,\n",
    "135.7620823,\n",
    "136.64019929999998,\n",
    "139.4354347,\n",
    "134.418001,\n",
    "103.48280679999999,\n",
    "142.8618702,\n",
    "111.59976035,\n",
    "]\n",
    "tenmb_data = [\n",
    "94.51588659999999,\n",
    "93.04451259999999,\n",
    "89.5896026,\n",
    "95.3587043,\n",
    "90.9374988,\n",
    "92.8431167,\n",
    "96.6167725,\n",
    "88.7481646,\n",
    "91.2052132,\n",
    "90.86300550000001,\n",
    "]\n",
    "onemb_data = [\n",
    "11.073395300000001,\n",
    "9.0846945,\n",
    "5.7819438000000005,\n",
    "6.543956700000001,\n",
    "9.910126399999998,\n",
    "7.8860225999999995,\n",
    "10.195462000000001,\n",
    "10.295863500000001,\n",
    "10.4852701,\n",
    "11.0147158,\n",
    "]"
   ]
  },
  {
   "cell_type": "code",
   "execution_count": 20,
   "metadata": {},
   "outputs": [],
   "source": [
    "one_node = (\"one node\", 10.39)\n",
    "two_nodes = (\"two nodes\", 8.94)\n",
    "three_nodes = (\"three nodes\", 8)\n"
   ]
  },
  {
   "cell_type": "code",
   "execution_count": 21,
   "metadata": {},
   "outputs": [],
   "source": [
    "fifteen_sessions = (\"15\", 20.12)\n",
    "ten_sessions = (\"10\", 15.49)\n",
    "five_sessions = (\"5\", 9.76)\n",
    "one_session = (\"1\", 5.37)"
   ]
  },
  {
   "cell_type": "code",
   "execution_count": 22,
   "metadata": {},
   "outputs": [],
   "source": [
    "fifteen_mb = (\"15mb\",136.20)\n",
    "ten_mb = ('10mb',92.02)\n",
    "one_mb = (\"1mb\",10.05)"
   ]
  },
  {
   "cell_type": "code",
   "execution_count": null,
   "metadata": {},
   "outputs": [],
   "source": []
  },
  {
   "cell_type": "code",
   "execution_count": 24,
   "metadata": {},
   "outputs": [],
   "source": [
    "nodes_data = [(one_node_data, \"One node\"),\n",
    "                 (two_nodes_data, \"Two nodes\"),\n",
    "                (three_nodes_data, \"Three nodes\")]\n",
    "sessions_data = [(fifteen_sessions_data, \"Fifteen sessions),\n",
    "                 (ten_sessions_data, \"ten_sessions\"),\n",
    "                (five_sessions_data, \"five_sessions\"),\n",
    "                (one_sessions_data, \"one_sessions\")]\n"
   ]
  },
  {
   "cell_type": "code",
   "execution_count": 5,
   "metadata": {},
   "outputs": [],
   "source": [
    "def draw_figure(data, title):   \n",
    "    fig, axs = plt.subplots(2, 2)\n",
    "    fig.suptitle(title)\n",
    "    fig.set_size_inches(15.5, 5.5)\n",
    "    data_counter = 0\n",
    "    for y in [0,1]:\n",
    "        for x in [0,1]:\n",
    "            axs[x,y].boxplot(data[data_counter][0],showfliers=False)\n",
    "            axs[x,y].set_xticks([1]) \n",
    "            axs[x,y].set_xticklabels([data[data_counter][1]], fontsize=12)\n",
    "            data_counter += 1\n",
    "                \n",
    "\n",
    "    for ax in axs.flat:\n",
    "        ax.set(ylabel='Elapsed time (s)')\n",
    "    plt.savefig(title)"
   ]
  },
  {
   "cell_type": "code",
   "execution_count": 49,
   "metadata": {},
   "outputs": [],
   "source": [
    "def draw_boxplot(data, title):\n",
    "    raw_data = []\n",
    "    labels = []\n",
    "   \n",
    "    for single_data in data:\n",
    "        print(single_data)\n",
    "        raw_data.append(single_data[0])\n",
    "        labels.append(single_data[1])\n",
    "    fig, ax = plt.subplots()\n",
    "    ax.boxplot(raw_data)\n",
    "    #ax.set_xticks([1]) \n",
    "    ax.set_xticklabels(labels, fontsize=12)\n",
    "    plt.show()"
   ]
  },
  {
   "cell_type": "code",
   "execution_count": 50,
   "metadata": {},
   "outputs": [],
   "source": [
    "def draw_bar_plot(data, title):   \n",
    "    fig = plt.figure()\n",
    "    \n",
    "    ax = fig.add_axes([0,0,1,1])\n",
    "    ax.set_title(title)\n",
    "    label = []\n",
    "    values = []\n",
    "    for stat in data:\n",
    "        label.append(stat[0]) \n",
    "        values.append(stat[1])\n",
    "    ax.bar(label,values)\n",
    "    ax.set(ylabel='Elapsed time (s) ')\n",
    "#     plt.xticks(rotation=35)\n",
    "    plt.savefig(title)\n",
    "    "
   ]
  },
  {
   "cell_type": "code",
   "execution_count": 51,
   "metadata": {},
   "outputs": [
    {
     "name": "stdout",
     "output_type": "stream",
     "text": [
      "([9.473910700000001, 10.611945500000001, 10.926767300000002, 10.2466951, 9.4842683, 11.2523505, 10.176861500000001, 10.6057245, 9.740995199999999, 10.536195, 9.473910700000001], 'One node')\n",
      "([8.762996500000002, 10.458517699999998, 7.112813299999999, 12.0177962, 7.818119800000001, 7.831321199999998, 10.0442173, 9.0759011, 8.8110573, 9.297802099999998], 'Two nodes')\n",
      "([7.747958499999999, 8.687586799999998, 7.6882631, 7.484891600000001, 8.819476199999999, 8.327269300000001, 8.959267000000002, 8.247753699999999, 6.7828949, 7.7338915], 'Three nodes')\n"
     ]
    },
    {
     "data": {
      "image/png": "[encoded data removed]",
      "text/plain": [
       "<Figure size 432x288 with 1 Axes>"
      ]
     },
     "metadata": {
      "needs_background": "light"
     },
     "output_type": "display_data"
    }
   ],
   "source": [
    "\n",
    "draw_boxplot(nodes_data, \"Node experiments\")\n",
    "draw_boxplot(nodes_data, \"Node experiments\")\n",
    "# draw_figure(connected_components, \"Label propgation UnionFind experiments\")\n"
   ]
  },
  {
   "cell_type": "code",
   "execution_count": 15,
   "metadata": {},
   "outputs": [
    {
     "data": {
      "image/png": "[encoded data removed]",
      "text/plain": [
       "<Figure size 432x288 with 1 Axes>"
      ]
     },
     "metadata": {
      "needs_background": "light"
     },
     "output_type": "display_data"
    },
    {
     "data": {
      "image/png": "[encoded data removed]",
      "text/plain": [
       "<Figure size 432x288 with 1 Axes>"
      ]
     },
     "metadata": {
      "needs_background": "light"
     },
     "output_type": "display_data"
    },
    {
     "data": {
      "image/png": "[encoded data removed]",
      "text/plain": [
       "<Figure size 432x288 with 1 Axes>"
      ]
     },
     "metadata": {
      "needs_background": "light"
     },
     "output_type": "display_data"
    }
   ],
   "source": [
    "draw_bar_plot([one_node,two_nodes,three_nodes],\"Effect of number of nodes on performance\")\n",
    "draw_bar_plot([fifteen_sessions,ten_sessions,five_sessions,one_session],\"Effect of number of session on performance\")\n",
    "draw_bar_plot([fifteen_mb,ten_mb,one_mb],\"Effect of file size on performance\")\n"
   ]
  },
  {
   "cell_type": "code",
   "execution_count": null,
   "metadata": {},
   "outputs": [],
   "source": []
  }
 ],
 "metadata": {
  "kernelspec": {
   "display_name": "Python 3",
   "language": "python",
   "name": "python3"
  },
  "language_info": {
   "codemirror_mode": {
    "name": "ipython",
    "version": 3
   },
   "file_extension": ".py",
   "mimetype": "text/x-python",
   "name": "python",
   "nbconvert_exporter": "python",
   "pygments_lexer": "ipython3",
   "version": "3.8.6"
  }
 },
 "nbformat": 4,
 "nbformat_minor": 4
}
